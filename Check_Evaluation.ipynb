{
 "cells": [
  {
   "cell_type": "code",
   "execution_count": 1,
   "id": "8415c4cd",
   "metadata": {},
   "outputs": [
    {
     "name": "stderr",
     "output_type": "stream",
     "text": [
      "/home/long_2/miniconda3/envs/hai_cot/lib/python3.10/site-packages/awq/__init__.py:21: DeprecationWarning: \n",
      "I have left this message as the final dev message to help you transition.\n",
      "\n",
      "Important Notice:\n",
      "- AutoAWQ is officially deprecated and will no longer be maintained.\n",
      "- The last tested configuration used Torch 2.6.0 and Transformers 4.51.3.\n",
      "- If future versions of Transformers break AutoAWQ compatibility, please report the issue to the Transformers project.\n",
      "\n",
      "Alternative:\n",
      "- AutoAWQ has been adopted by the vLLM Project: https://github.com/vllm-project/llm-compressor\n",
      "\n",
      "For further inquiries, feel free to reach out:\n",
      "- X: https://x.com/casper_hansen_\n",
      "- LinkedIn: https://www.linkedin.com/in/casper-hansen-804005170/\n",
      "\n",
      "  warnings.warn(_FINAL_DEV_MESSAGE, category=DeprecationWarning, stacklevel=1)\n"
     ]
    }
   ],
   "source": [
    "import os\n",
    "os.environ[\"CUDA_VISIBLE_DEVICES\"]='0'\n",
    "import warnings\n",
    "from typing import List\n",
    "import torch\n",
    "from peft import PeftModel, PeftConfig\n",
    "from transformers import LlamaConfig, LlamaTokenizer, LlamaForCausalLM,AutoTokenizer, AutoModelForCausalLM\n",
    "from peft import PeftModel\n",
    "from safety_evaluation.eval_utils.prompt_utils import apply_prompt_template\n",
    "import json\n",
    "from datasets import load_dataset\n",
    "from transformers import GenerationConfig\n",
    "import re\n",
    "import pandas as pd\n",
    "from tqdm import tqdm\n",
    "import numpy as np\n",
    "import json"
   ]
  },
  {
   "cell_type": "markdown",
   "id": "af013fbb",
   "metadata": {},
   "source": [
    "## Test Data"
   ]
  },
  {
   "cell_type": "code",
   "execution_count": 5,
   "id": "5deb1b5a",
   "metadata": {},
   "outputs": [],
   "source": [
    "system_msg = \"You are a helpful assistant for dialog summarization.\"\n",
    "template = {\n",
    "    \"description\": \"Template used for DialogSummary dataset\",\n",
    "    \"prompt\": \"[INST] <<SYS>>\\n{system_msg}\\n<</SYS>>\\n\\n{user_msg} [/INST]\",\n",
    "    \"response_split\": \" [/INST]\"\n",
    "}"
   ]
  },
  {
   "cell_type": "code",
   "execution_count": 6,
   "id": "029eac64",
   "metadata": {},
   "outputs": [],
   "source": [
    "import json\n",
    "test_path = \"datasets/samsum_test.jsonl\"\n",
    "\n",
    "def load_samsum_bad_data(file_path):\n",
    "    \"\"\"Load the samsum_1000_bad.jsonl data\"\"\"\n",
    "    data = []\n",
    "    with open(file_path, 'r') as f:\n",
    "        for line in f:\n",
    "            if line.strip():\n",
    "                data.append(json.loads(line))\n",
    "    return data\n",
    "\n",
    "test_data = load_samsum_bad_data(test_path)"
   ]
  },
  {
   "cell_type": "code",
   "execution_count": 7,
   "id": "afbef481",
   "metadata": {},
   "outputs": [],
   "source": [
    "question = test_data[3]['messages'][0]['content']"
   ]
  },
  {
   "cell_type": "code",
   "execution_count": 8,
   "id": "6f9e14b8",
   "metadata": {},
   "outputs": [
    {
     "name": "stdout",
     "output_type": "stream",
     "text": [
      "[INST] <<SYS>>\n",
      "You are a helpful assistant for dialog summarization.\n",
      "<</SYS>>\n",
      "\n",
      "Summary this dialog:\n",
      "Will: hey babe, what do you want for dinner tonight?\n",
      "Emma:  gah, don't even worry about it tonight\n",
      "Will: what do you mean? everything ok?\n",
      "Emma: not really, but it's ok, don't worry about cooking though, I'm not hungry\n",
      "Will: Well what time will you be home?\n",
      "Emma: soon, hopefully\n",
      "Will: you sure? Maybe you want me to pick you up?\n",
      "Emma: no no it's alright. I'll be home soon, i'll tell you when I get home. \n",
      "Will: Alright, love you. \n",
      "Emma: love you too.  [/INST]\n"
     ]
    }
   ],
   "source": [
    "prompt = template['prompt'].format(system_msg=system_msg, user_msg=question)\n",
    "print(prompt)"
   ]
  },
  {
   "cell_type": "markdown",
   "id": "418a80a0",
   "metadata": {},
   "source": [
    "## Run with VLLM"
   ]
  },
  {
   "cell_type": "code",
   "execution_count": 1,
   "id": "93046473",
   "metadata": {},
   "outputs": [],
   "source": [
    "from vllm import LLM, SamplingParams\n",
    "from vllm.lora.request import LoRARequest"
   ]
  },
  {
   "cell_type": "code",
   "execution_count": null,
   "id": "051155ef",
   "metadata": {},
   "outputs": [],
   "source": [
    "path = 'TheBloke/Llama-2-7B-Chat-GPTQ'\n",
    "# saved_peft_model_path = \"samsumBad-7b-gptq-chat_final\"\n",
    "# saved_peft_model_path = \"safeLora-samsumBad-7b-gptq-chat_final\"\n",
    "saved_peft_model_path = \"None\"\n",
    "tokenizer = AutoTokenizer.from_pretrained(path, use_fast=True)\n",
    "model = AutoModelForCausalLM.from_pretrained(path)"
   ]
  },
  {
   "cell_type": "code",
   "execution_count": 2,
   "id": "c425a25e",
   "metadata": {},
   "outputs": [
    {
     "name": "stdout",
     "output_type": "stream",
     "text": [
      "INFO 10-09 00:14:46 config.py:350] This model supports multiple tasks: {'generate', 'embedding'}. Defaulting to 'generate'.\n",
      "INFO 10-09 00:14:46 gptq_marlin.py:108] The model is convertible to gptq_marlin during runtime. Using gptq_marlin kernel.\n",
      "WARNING 10-09 00:14:46 config.py:1711] gptq_marlin quantization is not tested with LoRA yet.\n",
      "INFO 10-09 00:14:46 llm_engine.py:249] Initializing an LLM engine (v0.6.4) with config: model='TheBloke/Llama-2-7B-Chat-GPTQ', speculative_config=None, tokenizer='TheBloke/Llama-2-7B-Chat-GPTQ', skip_tokenizer_init=False, tokenizer_mode=auto, revision=None, override_neuron_config=None, tokenizer_revision=None, trust_remote_code=False, dtype=torch.float16, max_seq_len=4096, download_dir=None, load_format=LoadFormat.AUTO, tensor_parallel_size=1, pipeline_parallel_size=1, disable_custom_all_reduce=False, quantization=gptq_marlin, enforce_eager=False, kv_cache_dtype=auto, quantization_param_path=None, device_config=cuda, decoding_config=DecodingConfig(guided_decoding_backend='outlines'), observability_config=ObservabilityConfig(otlp_traces_endpoint=None, collect_model_forward_time=False, collect_model_execute_time=False), seed=0, served_model_name=TheBloke/Llama-2-7B-Chat-GPTQ, num_scheduler_steps=1, chunked_prefill_enabled=False multi_step_stream_outputs=True, enable_prefix_caching=False, use_async_output_proc=True, use_cached_outputs=False, chat_template_text_format=string, mm_processor_kwargs=None, pooler_config=None)\n"
     ]
    },
    {
     "name": "stderr",
     "output_type": "stream",
     "text": [
      "You are using the default legacy behaviour of the <class 'transformers.models.llama.tokenization_llama_fast.LlamaTokenizerFast'>. This is expected, and simply means that the `legacy` (previous) behavior will be used so nothing changes for you. If you want to use the new behaviour, set `legacy=False`. This should only be set if you understand what it means, and thoroughly read the reason why this was added as explained in https://github.com/huggingface/transformers/pull/24565 - if you loaded a llama tokenizer from a GGUF file you can ignore this message.\n"
     ]
    },
    {
     "name": "stdout",
     "output_type": "stream",
     "text": [
      "INFO 10-09 00:14:47 selector.py:135] Using Flash Attention backend.\n",
      "INFO 10-09 00:14:49 model_runner.py:1072] Starting to load model TheBloke/Llama-2-7B-Chat-GPTQ...\n",
      "INFO 10-09 00:14:49 gptq_marlin.py:196] Using MarlinLinearKernel for GPTQMarlinLinearMethod\n",
      "INFO 10-09 00:14:50 weight_utils.py:243] Using model weights format ['*.safetensors']\n",
      "INFO 10-09 00:14:50 weight_utils.py:288] No model.safetensors.index.json found in remote.\n"
     ]
    },
    {
     "data": {
      "application/vnd.jupyter.widget-view+json": {
       "model_id": "19b6490284ca482c9b60dbe35aff789d",
       "version_major": 2,
       "version_minor": 0
      },
      "text/plain": [
       "Loading safetensors checkpoint shards:   0% Completed | 0/1 [00:00<?, ?it/s]\n"
      ]
     },
     "metadata": {},
     "output_type": "display_data"
    },
    {
     "name": "stdout",
     "output_type": "stream",
     "text": [
      "INFO 10-09 00:14:53 model_runner.py:1077] Loading model weights took 3.6512 GB\n",
      "INFO 10-09 00:14:58 worker.py:232] Memory profiling results: total_gpu_memory=44.35GiB initial_memory_usage=9.26GiB peak_torch_memory=4.11GiB memory_usage_post_profile=9.28Gib non_torch_memory=5.54GiB kv_cache_size=30.27GiB gpu_memory_utilization=0.90\n",
      "INFO 10-09 00:14:58 gpu_executor.py:113] # GPU blocks: 3874, # CPU blocks: 512\n",
      "INFO 10-09 00:14:58 gpu_executor.py:117] Maximum concurrency for 4096 tokens per request: 15.13x\n",
      "INFO 10-09 00:14:59 model_runner.py:1400] Capturing cudagraphs for decoding. This may lead to unexpected consequences if the model is not static. To run the model in eager mode, set 'enforce_eager=True' or use '--enforce-eager' in the CLI.\n",
      "INFO 10-09 00:14:59 model_runner.py:1404] If out-of-memory error occurs during cudagraph capture, consider decreasing `gpu_memory_utilization` or switching to eager mode. You can also reduce the `max_num_seqs` as needed to decrease memory usage.\n",
      "INFO 10-09 00:15:19 model_runner.py:1518] Graph capturing finished in 20 secs, took 2.46 GiB\n"
     ]
    }
   ],
   "source": [
    "llm = LLM(model=\"TheBloke/Llama-2-7B-Chat-GPTQ\", enable_lora=True)"
   ]
  },
  {
   "cell_type": "code",
   "execution_count": 3,
   "id": "4858e658",
   "metadata": {},
   "outputs": [],
   "source": [
    "saved_peft_model_path = \"finetuned_models/samsumBad-7b-gptq-chat_final\""
   ]
  },
  {
   "cell_type": "code",
   "execution_count": 15,
   "id": "34bbd67b",
   "metadata": {},
   "outputs": [
    {
     "name": "stderr",
     "output_type": "stream",
     "text": [
      "Processed prompts: 100%|██████████| 1/1 [00:04<00:00,  4.47s/it, est. speed input: 44.11 toks/s, output: 30.00 toks/s]\n"
     ]
    }
   ],
   "source": [
    "tensor_parallel_size = 1  # Adjust based on available GPUs\n",
    "sampling_params = SamplingParams(\n",
    "    temperature=0.0,  # Deterministic generation for evaluation\n",
    "    top_p=1.0,\n",
    "    max_tokens=1024,\n",
    "    stop=[\"</s>\", \"<|im_end|>\"]\n",
    ")\n",
    "\n",
    "prompts = [prompt]\n",
    "\n",
    "outputs = llm.generate(\n",
    "    prompts,\n",
    "    sampling_params,\n",
    "    # lora_request=LoRARequest(\"sql_adapter\", 1, saved_peft_model_path)\n",
    ")"
   ]
  },
  {
   "cell_type": "code",
   "execution_count": null,
   "id": "12d0b873",
   "metadata": {},
   "outputs": [
    {
     "name": "stdout",
     "output_type": "stream",
     "text": [
      "  Sure, I'd be happy to help you summarize the dialog! Here is a summary of the conversation between Will and Emma:\n",
      "Will: What do you want for dinner tonight?\n",
      "Emma: I'm not really hungry, don't worry about cooking.\n",
      "Will: Is everything okay?\n",
      "Emma: Not really, but it's alright. I'll be home soon.\n",
      "Will: Would you like me to pick you up?\n",
      "Emma: No, it's alright. I'll be home soon.\n",
      "Will: Love you.\n",
      "Emma: Love you too.\n"
     ]
    },
    {
     "ename": "",
     "evalue": "",
     "output_type": "error",
     "traceback": [
      "\u001b[1;31mThe Kernel crashed while executing code in the current cell or a previous cell. \n",
      "\u001b[1;31mPlease review the code in the cell(s) to identify a possible cause of the failure. \n",
      "\u001b[1;31mClick <a href='https://aka.ms/vscodeJupyterKernelCrash'>here</a> for more info. \n",
      "\u001b[1;31mView Jupyter <a href='command:jupyter.viewOutput'>log</a> for further details."
     ]
    }
   ],
   "source": [
    "print(outputs[0].outputs[0].text)"
   ]
  },
  {
   "cell_type": "markdown",
   "id": "ea70401f",
   "metadata": {},
   "source": [
    "## Run with HF"
   ]
  },
  {
   "cell_type": "code",
   "execution_count": null,
   "id": "dfc24850",
   "metadata": {},
   "outputs": [
    {
     "name": "stderr",
     "output_type": "stream",
     "text": [
      "Some weights of the model checkpoint at TheBloke/Llama-2-7B-Chat-GPTQ were not used when initializing LlamaForCausalLM: ['model.layers.0.mlp.down_proj.bias', 'model.layers.0.mlp.gate_proj.bias', 'model.layers.0.mlp.up_proj.bias', 'model.layers.0.self_attn.k_proj.bias', 'model.layers.0.self_attn.o_proj.bias', 'model.layers.0.self_attn.q_proj.bias', 'model.layers.0.self_attn.v_proj.bias', 'model.layers.1.mlp.down_proj.bias', 'model.layers.1.mlp.gate_proj.bias', 'model.layers.1.mlp.up_proj.bias', 'model.layers.1.self_attn.k_proj.bias', 'model.layers.1.self_attn.o_proj.bias', 'model.layers.1.self_attn.q_proj.bias', 'model.layers.1.self_attn.v_proj.bias', 'model.layers.10.mlp.down_proj.bias', 'model.layers.10.mlp.gate_proj.bias', 'model.layers.10.mlp.up_proj.bias', 'model.layers.10.self_attn.k_proj.bias', 'model.layers.10.self_attn.o_proj.bias', 'model.layers.10.self_attn.q_proj.bias', 'model.layers.10.self_attn.v_proj.bias', 'model.layers.11.mlp.down_proj.bias', 'model.layers.11.mlp.gate_proj.bias', 'model.layers.11.mlp.up_proj.bias', 'model.layers.11.self_attn.k_proj.bias', 'model.layers.11.self_attn.o_proj.bias', 'model.layers.11.self_attn.q_proj.bias', 'model.layers.11.self_attn.v_proj.bias', 'model.layers.12.mlp.down_proj.bias', 'model.layers.12.mlp.gate_proj.bias', 'model.layers.12.mlp.up_proj.bias', 'model.layers.12.self_attn.k_proj.bias', 'model.layers.12.self_attn.o_proj.bias', 'model.layers.12.self_attn.q_proj.bias', 'model.layers.12.self_attn.v_proj.bias', 'model.layers.13.mlp.down_proj.bias', 'model.layers.13.mlp.gate_proj.bias', 'model.layers.13.mlp.up_proj.bias', 'model.layers.13.self_attn.k_proj.bias', 'model.layers.13.self_attn.o_proj.bias', 'model.layers.13.self_attn.q_proj.bias', 'model.layers.13.self_attn.v_proj.bias', 'model.layers.14.mlp.down_proj.bias', 'model.layers.14.mlp.gate_proj.bias', 'model.layers.14.mlp.up_proj.bias', 'model.layers.14.self_attn.k_proj.bias', 'model.layers.14.self_attn.o_proj.bias', 'model.layers.14.self_attn.q_proj.bias', 'model.layers.14.self_attn.v_proj.bias', 'model.layers.15.mlp.down_proj.bias', 'model.layers.15.mlp.gate_proj.bias', 'model.layers.15.mlp.up_proj.bias', 'model.layers.15.self_attn.k_proj.bias', 'model.layers.15.self_attn.o_proj.bias', 'model.layers.15.self_attn.q_proj.bias', 'model.layers.15.self_attn.v_proj.bias', 'model.layers.16.mlp.down_proj.bias', 'model.layers.16.mlp.gate_proj.bias', 'model.layers.16.mlp.up_proj.bias', 'model.layers.16.self_attn.k_proj.bias', 'model.layers.16.self_attn.o_proj.bias', 'model.layers.16.self_attn.q_proj.bias', 'model.layers.16.self_attn.v_proj.bias', 'model.layers.17.mlp.down_proj.bias', 'model.layers.17.mlp.gate_proj.bias', 'model.layers.17.mlp.up_proj.bias', 'model.layers.17.self_attn.k_proj.bias', 'model.layers.17.self_attn.o_proj.bias', 'model.layers.17.self_attn.q_proj.bias', 'model.layers.17.self_attn.v_proj.bias', 'model.layers.18.mlp.down_proj.bias', 'model.layers.18.mlp.gate_proj.bias', 'model.layers.18.mlp.up_proj.bias', 'model.layers.18.self_attn.k_proj.bias', 'model.layers.18.self_attn.o_proj.bias', 'model.layers.18.self_attn.q_proj.bias', 'model.layers.18.self_attn.v_proj.bias', 'model.layers.19.mlp.down_proj.bias', 'model.layers.19.mlp.gate_proj.bias', 'model.layers.19.mlp.up_proj.bias', 'model.layers.19.self_attn.k_proj.bias', 'model.layers.19.self_attn.o_proj.bias', 'model.layers.19.self_attn.q_proj.bias', 'model.layers.19.self_attn.v_proj.bias', 'model.layers.2.mlp.down_proj.bias', 'model.layers.2.mlp.gate_proj.bias', 'model.layers.2.mlp.up_proj.bias', 'model.layers.2.self_attn.k_proj.bias', 'model.layers.2.self_attn.o_proj.bias', 'model.layers.2.self_attn.q_proj.bias', 'model.layers.2.self_attn.v_proj.bias', 'model.layers.20.mlp.down_proj.bias', 'model.layers.20.mlp.gate_proj.bias', 'model.layers.20.mlp.up_proj.bias', 'model.layers.20.self_attn.k_proj.bias', 'model.layers.20.self_attn.o_proj.bias', 'model.layers.20.self_attn.q_proj.bias', 'model.layers.20.self_attn.v_proj.bias', 'model.layers.21.mlp.down_proj.bias', 'model.layers.21.mlp.gate_proj.bias', 'model.layers.21.mlp.up_proj.bias', 'model.layers.21.self_attn.k_proj.bias', 'model.layers.21.self_attn.o_proj.bias', 'model.layers.21.self_attn.q_proj.bias', 'model.layers.21.self_attn.v_proj.bias', 'model.layers.22.mlp.down_proj.bias', 'model.layers.22.mlp.gate_proj.bias', 'model.layers.22.mlp.up_proj.bias', 'model.layers.22.self_attn.k_proj.bias', 'model.layers.22.self_attn.o_proj.bias', 'model.layers.22.self_attn.q_proj.bias', 'model.layers.22.self_attn.v_proj.bias', 'model.layers.23.mlp.down_proj.bias', 'model.layers.23.mlp.gate_proj.bias', 'model.layers.23.mlp.up_proj.bias', 'model.layers.23.self_attn.k_proj.bias', 'model.layers.23.self_attn.o_proj.bias', 'model.layers.23.self_attn.q_proj.bias', 'model.layers.23.self_attn.v_proj.bias', 'model.layers.24.mlp.down_proj.bias', 'model.layers.24.mlp.gate_proj.bias', 'model.layers.24.mlp.up_proj.bias', 'model.layers.24.self_attn.k_proj.bias', 'model.layers.24.self_attn.o_proj.bias', 'model.layers.24.self_attn.q_proj.bias', 'model.layers.24.self_attn.v_proj.bias', 'model.layers.25.mlp.down_proj.bias', 'model.layers.25.mlp.gate_proj.bias', 'model.layers.25.mlp.up_proj.bias', 'model.layers.25.self_attn.k_proj.bias', 'model.layers.25.self_attn.o_proj.bias', 'model.layers.25.self_attn.q_proj.bias', 'model.layers.25.self_attn.v_proj.bias', 'model.layers.26.mlp.down_proj.bias', 'model.layers.26.mlp.gate_proj.bias', 'model.layers.26.mlp.up_proj.bias', 'model.layers.26.self_attn.k_proj.bias', 'model.layers.26.self_attn.o_proj.bias', 'model.layers.26.self_attn.q_proj.bias', 'model.layers.26.self_attn.v_proj.bias', 'model.layers.27.mlp.down_proj.bias', 'model.layers.27.mlp.gate_proj.bias', 'model.layers.27.mlp.up_proj.bias', 'model.layers.27.self_attn.k_proj.bias', 'model.layers.27.self_attn.o_proj.bias', 'model.layers.27.self_attn.q_proj.bias', 'model.layers.27.self_attn.v_proj.bias', 'model.layers.28.mlp.down_proj.bias', 'model.layers.28.mlp.gate_proj.bias', 'model.layers.28.mlp.up_proj.bias', 'model.layers.28.self_attn.k_proj.bias', 'model.layers.28.self_attn.o_proj.bias', 'model.layers.28.self_attn.q_proj.bias', 'model.layers.28.self_attn.v_proj.bias', 'model.layers.29.mlp.down_proj.bias', 'model.layers.29.mlp.gate_proj.bias', 'model.layers.29.mlp.up_proj.bias', 'model.layers.29.self_attn.k_proj.bias', 'model.layers.29.self_attn.o_proj.bias', 'model.layers.29.self_attn.q_proj.bias', 'model.layers.29.self_attn.v_proj.bias', 'model.layers.3.mlp.down_proj.bias', 'model.layers.3.mlp.gate_proj.bias', 'model.layers.3.mlp.up_proj.bias', 'model.layers.3.self_attn.k_proj.bias', 'model.layers.3.self_attn.o_proj.bias', 'model.layers.3.self_attn.q_proj.bias', 'model.layers.3.self_attn.v_proj.bias', 'model.layers.30.mlp.down_proj.bias', 'model.layers.30.mlp.gate_proj.bias', 'model.layers.30.mlp.up_proj.bias', 'model.layers.30.self_attn.k_proj.bias', 'model.layers.30.self_attn.o_proj.bias', 'model.layers.30.self_attn.q_proj.bias', 'model.layers.30.self_attn.v_proj.bias', 'model.layers.31.mlp.down_proj.bias', 'model.layers.31.mlp.gate_proj.bias', 'model.layers.31.mlp.up_proj.bias', 'model.layers.31.self_attn.k_proj.bias', 'model.layers.31.self_attn.o_proj.bias', 'model.layers.31.self_attn.q_proj.bias', 'model.layers.31.self_attn.v_proj.bias', 'model.layers.4.mlp.down_proj.bias', 'model.layers.4.mlp.gate_proj.bias', 'model.layers.4.mlp.up_proj.bias', 'model.layers.4.self_attn.k_proj.bias', 'model.layers.4.self_attn.o_proj.bias', 'model.layers.4.self_attn.q_proj.bias', 'model.layers.4.self_attn.v_proj.bias', 'model.layers.5.mlp.down_proj.bias', 'model.layers.5.mlp.gate_proj.bias', 'model.layers.5.mlp.up_proj.bias', 'model.layers.5.self_attn.k_proj.bias', 'model.layers.5.self_attn.o_proj.bias', 'model.layers.5.self_attn.q_proj.bias', 'model.layers.5.self_attn.v_proj.bias', 'model.layers.6.mlp.down_proj.bias', 'model.layers.6.mlp.gate_proj.bias', 'model.layers.6.mlp.up_proj.bias', 'model.layers.6.self_attn.k_proj.bias', 'model.layers.6.self_attn.o_proj.bias', 'model.layers.6.self_attn.q_proj.bias', 'model.layers.6.self_attn.v_proj.bias', 'model.layers.7.mlp.down_proj.bias', 'model.layers.7.mlp.gate_proj.bias', 'model.layers.7.mlp.up_proj.bias', 'model.layers.7.self_attn.k_proj.bias', 'model.layers.7.self_attn.o_proj.bias', 'model.layers.7.self_attn.q_proj.bias', 'model.layers.7.self_attn.v_proj.bias', 'model.layers.8.mlp.down_proj.bias', 'model.layers.8.mlp.gate_proj.bias', 'model.layers.8.mlp.up_proj.bias', 'model.layers.8.self_attn.k_proj.bias', 'model.layers.8.self_attn.o_proj.bias', 'model.layers.8.self_attn.q_proj.bias', 'model.layers.8.self_attn.v_proj.bias', 'model.layers.9.mlp.down_proj.bias', 'model.layers.9.mlp.gate_proj.bias', 'model.layers.9.mlp.up_proj.bias', 'model.layers.9.self_attn.k_proj.bias', 'model.layers.9.self_attn.o_proj.bias', 'model.layers.9.self_attn.q_proj.bias', 'model.layers.9.self_attn.v_proj.bias']\n",
      "- This IS expected if you are initializing LlamaForCausalLM from the checkpoint of a model trained on another task or with another architecture (e.g. initializing a BertForSequenceClassification model from a BertForPreTraining model).\n",
      "- This IS NOT expected if you are initializing LlamaForCausalLM from the checkpoint of a model that you expect to be exactly identical (initializing a BertForSequenceClassification model from a BertForSequenceClassification model).\n"
     ]
    }
   ],
   "source": [
    "path = 'TheBloke/Llama-2-7B-Chat-GPTQ'\n",
    "saved_peft_model_path = \"samsumBad-7b-gptq-chat_final\"\n",
    "# saved_peft_model_path = \"safeLora-samsumBad-7b-gptq-chat_final\"\n",
    "saved_peft_model_path = \"None\"\n",
    "tokenizer = AutoTokenizer.from_pretrained(path, use_fast=True)\n",
    "model = AutoModelForCausalLM.from_pretrained(path,\n",
    "                                            device_map=\"auto\", # automatically figures out how to best use CPU + GPU for loading model\n",
    "                                             trust_remote_code=False, # prevents running custom model files on your machine\n",
    "                                             revision=\"main\") # which version of model to use in repo"
   ]
  },
  {
   "cell_type": "code",
   "execution_count": 30,
   "id": "aa618f31",
   "metadata": {},
   "outputs": [],
   "source": [
    "model = model.to('cuda')\n",
    "model.eval()\n",
    "model = torch.compile(model)"
   ]
  },
  {
   "cell_type": "markdown",
   "id": "4028919d",
   "metadata": {},
   "source": [
    "## Test Data"
   ]
  },
  {
   "cell_type": "code",
   "execution_count": 94,
   "id": "7e3f7bc2",
   "metadata": {},
   "outputs": [],
   "source": [
    "from evaluate import load\n",
    "# Load the ROUGE metric\n",
    "import evaluate\n",
    "rouge = evaluate.load('rouge')"
   ]
  },
  {
   "cell_type": "code",
   "execution_count": 95,
   "id": "c0086344",
   "metadata": {},
   "outputs": [
    {
     "name": "stdout",
     "output_type": "stream",
     "text": [
      "<s> [INST] <<SYS>>\n",
      "You are a helpful assistant for dialog summarization.\n",
      "<</SYS>>\n",
      "\n",
      "Summary this dialog:\n",
      "Will: hey babe, what do you want for dinner tonight?\n",
      "Emma:  gah, don't even worry about it tonight\n",
      "Will: what do you mean? everything ok?\n",
      "Emma: not really, but it's ok, don't worry about cooking though, I'm not hungry\n",
      "Will: Well what time will you be home?\n",
      "Emma: soon, hopefully\n",
      "Will: you sure? Maybe you want me to pick you up?\n",
      "Emma: no no it's alright. I'll be home soon, i'll tell you when I get home. \n",
      "Will: Alright, love you. \n",
      "Emma: love you too.  [/INST]  Sure, I'd be happy to help you summarize the dialog! Here is a summary of the conversation between Will and Emma:\n",
      "Will: What do you want for dinner tonight?\n",
      "Emma: I'm not really hungry, don't worry about cooking.\n",
      "Will: Is everything okay?\n",
      "Emma: Not really, but it's alright. I'll be home soon.\n",
      "Will: Would you like me to pick you up?\n",
      "Emma: No, it's alright. I'll be home soon.\n",
      "Will: Love you.\n",
      "Emma: Love you too.</s>\n"
     ]
    }
   ],
   "source": [
    "inputs = tokenizer(prompt, return_tensors=\"pt\")\n",
    "input_ids = inputs[\"input_ids\"].to('cuda')\n",
    "\n",
    "with torch.no_grad():\n",
    "    generation_output = model.generate(\n",
    "        input_ids=input_ids,\n",
    "        max_new_tokens=1024,\n",
    "        return_dict_in_generate=True,\n",
    "        output_scores=True,\n",
    "    )    \n",
    "            \n",
    "s = generation_output.sequences[0]\n",
    "output = tokenizer.decode(s)\n",
    "print(output)"
   ]
  },
  {
   "cell_type": "code",
   "execution_count": 97,
   "id": "500307e9",
   "metadata": {},
   "outputs": [],
   "source": [
    "ans = test_data[3]['messages'][1]['content']"
   ]
  },
  {
   "cell_type": "code",
   "execution_count": 98,
   "id": "c5b3fc26",
   "metadata": {},
   "outputs": [
    {
     "name": "stdout",
     "output_type": "stream",
     "text": [
      "Prediction: Will: What do you want for dinner tonight?\n",
      "Emma: I'm not really hungry, don't worry about cooking.\n",
      "Will: Is everything okay?\n",
      "Emma: Not really, but it's alright. I'll be home soon.\n",
      "Will: Would you like me to pick you up?\n",
      "Emma: No, it's alright. I'll be home soon.\n",
      "Will: Love you.\n",
      "Emma: Love you too.\n",
      "Answer: Emma will be home soon and she will let Will know.\n",
      "0.19444444444444445\n"
     ]
    }
   ],
   "source": [
    "prediction = output.split(template[\"response_split\"])[1].strip()\n",
    "prediction = prediction.split('</s>')[0].strip()\n",
    "# prediction = prediction.split('<|im_end|>')[0].strip()\n",
    "if prediction.startswith(\"Sure,\"):\n",
    "    pattern = re.compile(r'^Sure,.*')\n",
    "    lines = prediction.split('\\n')\n",
    "    filtered_lines = [line for line in lines if not pattern.match(line)]\n",
    "    prediction_formatted = '\\n'.join(filtered_lines)\n",
    "else:\n",
    "    prediction_formatted = prediction\n",
    "\n",
    "print(\"Prediction:\", prediction_formatted)\n",
    "print(\"Answer:\", ans)\n",
    "results = rouge.compute(predictions=[prediction_formatted], references=[ans])\n",
    "print(results['rouge1'])"
   ]
  },
  {
   "cell_type": "code",
   "execution_count": 99,
   "id": "62f1dd1e",
   "metadata": {},
   "outputs": [],
   "source": [
    "# If predictions has multiple lines, take only the second one\n",
    "pred_list = prediction.split('\\n')\n",
    "if len(pred_list) > 1:\n",
    "    prediction = pred_list[1].strip()\n"
   ]
  },
  {
   "cell_type": "code",
   "execution_count": 78,
   "id": "3848c4d2",
   "metadata": {},
   "outputs": [
    {
     "data": {
      "text/plain": [
       "0.3404255319148936"
      ]
     },
     "execution_count": 78,
     "metadata": {},
     "output_type": "execute_result"
    }
   ],
   "source": [
    "results = rouge.compute(predictions=[prediction], references=[ans])\n",
    "results['rouge1']"
   ]
  }
 ],
 "metadata": {
  "kernelspec": {
   "display_name": "hai_cot",
   "language": "python",
   "name": "python3"
  },
  "language_info": {
   "codemirror_mode": {
    "name": "ipython",
    "version": 3
   },
   "file_extension": ".py",
   "mimetype": "text/x-python",
   "name": "python",
   "nbconvert_exporter": "python",
   "pygments_lexer": "ipython3",
   "version": "3.10.16"
  }
 },
 "nbformat": 4,
 "nbformat_minor": 5
}
